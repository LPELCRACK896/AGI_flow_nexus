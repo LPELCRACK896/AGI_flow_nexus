{
 "cells": [
  {
   "cell_type": "code",
   "execution_count": null,
   "id": "initial_id",
   "metadata": {
    "collapsed": true
   },
   "outputs": [],
   "source": [
    "import json\n",
    "from postgresql import get_connection\n",
    "\n",
    "\n",
    "def load_json_data(file_path: str) -> list:\n",
    "    with open(file_path, \"r\", encoding=\"utf-8\") as f:\n",
    "        data = json.load(f)\n",
    "    return data\n",
    "\n",
    "\n",
    "stations = load_json_data(\"./data/stations.json\")"
   ]
  },
  {
   "metadata": {
    "ExecuteTime": {
     "end_time": "2024-10-23T07:13:48.915067Z",
     "start_time": "2024-10-23T07:13:48.908827Z"
    }
   },
   "cell_type": "code",
   "source": [
    "from dotenv import dotenv_values\n",
    "\n",
    "envs = dotenv_values(\".env\")\n",
    "\n",
    "async def upload_data(stations):\n",
    "    conn = await get_connection(\n",
    "        user=envs[\"PG_USER\"],\n",
    "        password=envs[\"PG_PASSWORD\"],\n",
    "        database=envs[\"PG_DATABASE\"],\n",
    "        host=envs[\"PG_HOST\"]\n",
    "    )\n",
    "    try:\n",
    "        query = \"\"\"\n",
    "        INSERT INTO StaticStations (\n",
    "            station_id, name, latitude, longitude, altitude, stratum\n",
    "        ) VALUES ($1, $2, $3, $4, $5, $6)\n",
    "        \"\"\"\n",
    "        for station in stations:\n",
    "            await conn.execute(\n",
    "                query,\n",
    "                station[\"station_id\"],\n",
    "                station[\"name\"],\n",
    "                float(station[\"latitude\"]),\n",
    "                float(station[\"longitude\"]),\n",
    "                int(station[\"altitude\"]),\n",
    "                station[\"stratum\"]\n",
    "            )\n",
    "        print(\"Estaciones cargadas correctamente.\")\n",
    "    except Exception as e:\n",
    "        print(f\"Error al cargar los datos: {e}\")\n",
    "    finally:\n",
    "        await conn.close()\n"
   ],
   "id": "ecc6fdd3da4d4b16",
   "outputs": [],
   "execution_count": 5
  },
  {
   "metadata": {
    "ExecuteTime": {
     "end_time": "2024-10-23T07:13:50.605264Z",
     "start_time": "2024-10-23T07:13:50.250935Z"
    }
   },
   "cell_type": "code",
   "source": "",
   "id": "9fa10b71521bb9a3",
   "outputs": [
    {
     "ename": "RuntimeError",
     "evalue": "asyncio.run() cannot be called from a running event loop",
     "output_type": "error",
     "traceback": [
      "\u001B[1;31m---------------------------------------------------------------------------\u001B[0m",
      "\u001B[1;31mRuntimeError\u001B[0m                              Traceback (most recent call last)",
      "Cell \u001B[1;32mIn[6], line 5\u001B[0m\n\u001B[0;32m      2\u001B[0m \u001B[38;5;28;01masync\u001B[39;00m \u001B[38;5;28;01mdef\u001B[39;00m \u001B[38;5;21mmain\u001B[39m():\n\u001B[0;32m      3\u001B[0m     \u001B[38;5;28;01mawait\u001B[39;00m upload_data(stations)\n\u001B[1;32m----> 5\u001B[0m \u001B[43masyncio\u001B[49m\u001B[38;5;241;43m.\u001B[39;49m\u001B[43mrun\u001B[49m\u001B[43m(\u001B[49m\u001B[43mmain\u001B[49m\u001B[43m(\u001B[49m\u001B[43m)\u001B[49m\u001B[43m)\u001B[49m\n",
      "File \u001B[1;32m~\\AppData\\Local\\Programs\\Python\\Python312\\Lib\\asyncio\\runners.py:190\u001B[0m, in \u001B[0;36mrun\u001B[1;34m(main, debug, loop_factory)\u001B[0m\n\u001B[0;32m    161\u001B[0m \u001B[38;5;250m\u001B[39m\u001B[38;5;124;03m\"\"\"Execute the coroutine and return the result.\u001B[39;00m\n\u001B[0;32m    162\u001B[0m \n\u001B[0;32m    163\u001B[0m \u001B[38;5;124;03mThis function runs the passed coroutine, taking care of\u001B[39;00m\n\u001B[1;32m   (...)\u001B[0m\n\u001B[0;32m    186\u001B[0m \u001B[38;5;124;03m    asyncio.run(main())\u001B[39;00m\n\u001B[0;32m    187\u001B[0m \u001B[38;5;124;03m\"\"\"\u001B[39;00m\n\u001B[0;32m    188\u001B[0m \u001B[38;5;28;01mif\u001B[39;00m events\u001B[38;5;241m.\u001B[39m_get_running_loop() \u001B[38;5;129;01mis\u001B[39;00m \u001B[38;5;129;01mnot\u001B[39;00m \u001B[38;5;28;01mNone\u001B[39;00m:\n\u001B[0;32m    189\u001B[0m     \u001B[38;5;66;03m# fail fast with short traceback\u001B[39;00m\n\u001B[1;32m--> 190\u001B[0m     \u001B[38;5;28;01mraise\u001B[39;00m \u001B[38;5;167;01mRuntimeError\u001B[39;00m(\n\u001B[0;32m    191\u001B[0m         \u001B[38;5;124m\"\u001B[39m\u001B[38;5;124masyncio.run() cannot be called from a running event loop\u001B[39m\u001B[38;5;124m\"\u001B[39m)\n\u001B[0;32m    193\u001B[0m \u001B[38;5;28;01mwith\u001B[39;00m Runner(debug\u001B[38;5;241m=\u001B[39mdebug, loop_factory\u001B[38;5;241m=\u001B[39mloop_factory) \u001B[38;5;28;01mas\u001B[39;00m runner:\n\u001B[0;32m    194\u001B[0m     \u001B[38;5;28;01mreturn\u001B[39;00m runner\u001B[38;5;241m.\u001B[39mrun(main)\n",
      "\u001B[1;31mRuntimeError\u001B[0m: asyncio.run() cannot be called from a running event loop"
     ]
    }
   ],
   "execution_count": 6
  }
 ],
 "metadata": {
  "kernelspec": {
   "display_name": "Python 3",
   "language": "python",
   "name": "python3"
  },
  "language_info": {
   "codemirror_mode": {
    "name": "ipython",
    "version": 2
   },
   "file_extension": ".py",
   "mimetype": "text/x-python",
   "name": "python",
   "nbconvert_exporter": "python",
   "pygments_lexer": "ipython2",
   "version": "2.7.6"
  }
 },
 "nbformat": 4,
 "nbformat_minor": 5
}
