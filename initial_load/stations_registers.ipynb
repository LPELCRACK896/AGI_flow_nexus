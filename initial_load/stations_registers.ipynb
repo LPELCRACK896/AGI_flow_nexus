{
 "cells": [
  {
   "cell_type": "code",
   "id": "initial_id",
   "metadata": {
    "collapsed": true,
    "ExecuteTime": {
     "end_time": "2024-10-23T06:51:56.485916Z",
     "start_time": "2024-10-23T06:51:53.026101Z"
    }
   },
   "source": "!pip install pandas openpyxl xlrd",
   "outputs": [
    {
     "name": "stdout",
     "output_type": "stream",
     "text": [
      "Requirement already satisfied: pandas in c:\\users\\luis p\\projects\\flow_nexus_2.0\\initial_load\\.venv\\lib\\site-packages (2.2.3)\n",
      "Requirement already satisfied: openpyxl in c:\\users\\luis p\\projects\\flow_nexus_2.0\\initial_load\\.venv\\lib\\site-packages (3.1.5)\n",
      "Requirement already satisfied: xlrd in c:\\users\\luis p\\projects\\flow_nexus_2.0\\initial_load\\.venv\\lib\\site-packages (2.0.1)\n",
      "Requirement already satisfied: numpy>=1.26.0 in c:\\users\\luis p\\projects\\flow_nexus_2.0\\initial_load\\.venv\\lib\\site-packages (from pandas) (2.1.2)\n",
      "Requirement already satisfied: python-dateutil>=2.8.2 in c:\\users\\luis p\\projects\\flow_nexus_2.0\\initial_load\\.venv\\lib\\site-packages (from pandas) (2.9.0.post0)\n",
      "Requirement already satisfied: pytz>=2020.1 in c:\\users\\luis p\\projects\\flow_nexus_2.0\\initial_load\\.venv\\lib\\site-packages (from pandas) (2024.2)\n",
      "Requirement already satisfied: tzdata>=2022.7 in c:\\users\\luis p\\projects\\flow_nexus_2.0\\initial_load\\.venv\\lib\\site-packages (from pandas) (2024.2)\n",
      "Requirement already satisfied: et-xmlfile in c:\\users\\luis p\\projects\\flow_nexus_2.0\\initial_load\\.venv\\lib\\site-packages (from openpyxl) (1.1.0)\n",
      "Requirement already satisfied: six>=1.5 in c:\\users\\luis p\\projects\\flow_nexus_2.0\\initial_load\\.venv\\lib\\site-packages (from python-dateutil>=2.8.2->pandas) (1.16.0)\n"
     ]
    },
    {
     "name": "stderr",
     "output_type": "stream",
     "text": [
      "\n",
      "[notice] A new release of pip is available: 23.2.1 -> 24.2\n",
      "[notice] To update, run: python.exe -m pip install --upgrade pip\n"
     ]
    }
   ],
   "execution_count": 27
  },
  {
   "metadata": {
    "ExecuteTime": {
     "end_time": "2024-10-23T06:51:56.514679Z",
     "start_time": "2024-10-23T06:51:56.507561Z"
    }
   },
   "cell_type": "code",
   "source": [
    "import json\n",
    "def json_to_dict_and_dataframe(file_path):\n",
    "    \n",
    "    with open(file_path, 'r', encoding='utf-8') as f:\n",
    "        data = json.load(f) \n",
    "    dict_data = {}\n",
    "    for item in data:\n",
    "        dict_data[item[\"name\"]] = item # item = 'station_id': 74,'name': \"Sotz'il - Waqxaqi'B'alam\", 'latitude': 14.67, 'longitude': -90.81, 'altitude': 1781,'stratum': 'Alto'\n",
    "\n",
    "    return dict_data"
   ],
   "id": "649cdabbd2f7f25c",
   "outputs": [],
   "execution_count": 28
  },
  {
   "metadata": {
    "ExecuteTime": {
     "end_time": "2024-10-23T06:51:57.545854Z",
     "start_time": "2024-10-23T06:51:56.547456Z"
    }
   },
   "cell_type": "code",
   "source": [
    "import pandas as pd\n",
    "\n",
    "file_path = './data/xls_cleaned/20241003-Reporte.xls'\n",
    "df = pd.read_excel(file_path, engine='xlrd')  \n",
    "print(df.columns)"
   ],
   "id": "98fe5162e5251946",
   "outputs": [
    {
     "name": "stdout",
     "output_type": "stream",
     "text": [
      "Index(['Estacion', 'Fecha', 'radiacion', 'humedad relativa', 'precipitacion',\n",
      "       'temperatura', 'velocidad viento', 'mojadura', 'direccion viento',\n",
      "       'eto', 'indice calor'],\n",
      "      dtype='object')\n"
     ]
    }
   ],
   "execution_count": 29
  },
  {
   "metadata": {
    "ExecuteTime": {
     "end_time": "2024-10-23T06:51:57.581104Z",
     "start_time": "2024-10-23T06:51:57.574921Z"
    }
   },
   "cell_type": "code",
   "source": [
    "import datetime\n",
    "\n",
    "def extract_xls_into_dataframe(file_path, stations_dict):\n",
    "    df = pd.read_excel(file_path, engine='xlrd')\n",
    "    df = df.drop(columns=[\"eto\"])\n",
    "    df = df.rename(columns={\n",
    "        'Estacion': 'name', \n",
    "        \"Fecha\": \"date_time\", \n",
    "        \"radiacion\": \"radiation\",\n",
    "        \"humedad relativa\": \"relative_humidity\",\n",
    "        \"precipitacion\": \"precipitation\",\n",
    "        \"temperatura\": \"temperature\",\n",
    "        \"velocidad viento\": \"wind_speed\",\n",
    "        \"mojadura\": \"wetness\",\n",
    "        \"direccion viento\": \"wind_direction\",\n",
    "        \"indice calor\": \"heat_index\"        \n",
    "    })\n",
    "    \n",
    "    df['station_id'] = df['name'].map(lambda x: stations_dict.get(x, {}).get('station_id'))\n",
    "    df['date_time'] = pd.to_datetime(df['date_time'], format='%Y-%m-%d %H:%M')\n",
    "    df['date_time'] = df['date_time'].dt.tz_localize('America/Guatemala')\n",
    "\n",
    "    df = df.drop(columns=['name'])\n",
    "    \n",
    "    return df    \n"
   ],
   "id": "96c789bd1b3d3e61",
   "outputs": [],
   "execution_count": 30
  },
  {
   "metadata": {
    "ExecuteTime": {
     "end_time": "2024-10-23T06:51:58.563440Z",
     "start_time": "2024-10-23T06:51:57.608647Z"
    }
   },
   "cell_type": "code",
   "source": [
    "example_file_path = './data/xls_cleaned/20241003-Reporte.xls'\n",
    "stations_dict = json_to_dict_and_dataframe('./data/stations.json')\n",
    "dataframe = extract_xls_into_dataframe(example_file_path, stations_dict)\n",
    "dataframe.head()"
   ],
   "id": "19634b0f2340e2c0",
   "outputs": [
    {
     "data": {
      "text/plain": [
       "          date_time  radiation  relative_humidity  precipitation  temperature  \\\n",
       "0  2024-10-03 00:00        0.0                100            0.0         24.3   \n",
       "1  2024-10-03 00:15        0.0                100            0.0         24.3   \n",
       "2  2024-10-03 00:30        0.0                100            0.0         24.3   \n",
       "3  2024-10-03 00:45        0.0                100            0.0         24.2   \n",
       "4  2024-10-03 01:00        0.0                100            0.0         24.0   \n",
       "\n",
       "   wind_speed  wetness  wind_direction  heat_index  station_id  \n",
       "0         0.0       10           104.2       23.38          45  \n",
       "1         0.0       10            25.6       23.38          45  \n",
       "2         0.0       10            29.4       23.38          45  \n",
       "3         0.0       10            25.3       23.12          45  \n",
       "4         0.0       10            48.5       22.60          45  "
      ],
      "text/html": [
       "<div>\n",
       "<style scoped>\n",
       "    .dataframe tbody tr th:only-of-type {\n",
       "        vertical-align: middle;\n",
       "    }\n",
       "\n",
       "    .dataframe tbody tr th {\n",
       "        vertical-align: top;\n",
       "    }\n",
       "\n",
       "    .dataframe thead th {\n",
       "        text-align: right;\n",
       "    }\n",
       "</style>\n",
       "<table border=\"1\" class=\"dataframe\">\n",
       "  <thead>\n",
       "    <tr style=\"text-align: right;\">\n",
       "      <th></th>\n",
       "      <th>date_time</th>\n",
       "      <th>radiation</th>\n",
       "      <th>relative_humidity</th>\n",
       "      <th>precipitation</th>\n",
       "      <th>temperature</th>\n",
       "      <th>wind_speed</th>\n",
       "      <th>wetness</th>\n",
       "      <th>wind_direction</th>\n",
       "      <th>heat_index</th>\n",
       "      <th>station_id</th>\n",
       "    </tr>\n",
       "  </thead>\n",
       "  <tbody>\n",
       "    <tr>\n",
       "      <th>0</th>\n",
       "      <td>2024-10-03 00:00</td>\n",
       "      <td>0.0</td>\n",
       "      <td>100</td>\n",
       "      <td>0.0</td>\n",
       "      <td>24.3</td>\n",
       "      <td>0.0</td>\n",
       "      <td>10</td>\n",
       "      <td>104.2</td>\n",
       "      <td>23.38</td>\n",
       "      <td>45</td>\n",
       "    </tr>\n",
       "    <tr>\n",
       "      <th>1</th>\n",
       "      <td>2024-10-03 00:15</td>\n",
       "      <td>0.0</td>\n",
       "      <td>100</td>\n",
       "      <td>0.0</td>\n",
       "      <td>24.3</td>\n",
       "      <td>0.0</td>\n",
       "      <td>10</td>\n",
       "      <td>25.6</td>\n",
       "      <td>23.38</td>\n",
       "      <td>45</td>\n",
       "    </tr>\n",
       "    <tr>\n",
       "      <th>2</th>\n",
       "      <td>2024-10-03 00:30</td>\n",
       "      <td>0.0</td>\n",
       "      <td>100</td>\n",
       "      <td>0.0</td>\n",
       "      <td>24.3</td>\n",
       "      <td>0.0</td>\n",
       "      <td>10</td>\n",
       "      <td>29.4</td>\n",
       "      <td>23.38</td>\n",
       "      <td>45</td>\n",
       "    </tr>\n",
       "    <tr>\n",
       "      <th>3</th>\n",
       "      <td>2024-10-03 00:45</td>\n",
       "      <td>0.0</td>\n",
       "      <td>100</td>\n",
       "      <td>0.0</td>\n",
       "      <td>24.2</td>\n",
       "      <td>0.0</td>\n",
       "      <td>10</td>\n",
       "      <td>25.3</td>\n",
       "      <td>23.12</td>\n",
       "      <td>45</td>\n",
       "    </tr>\n",
       "    <tr>\n",
       "      <th>4</th>\n",
       "      <td>2024-10-03 01:00</td>\n",
       "      <td>0.0</td>\n",
       "      <td>100</td>\n",
       "      <td>0.0</td>\n",
       "      <td>24.0</td>\n",
       "      <td>0.0</td>\n",
       "      <td>10</td>\n",
       "      <td>48.5</td>\n",
       "      <td>22.60</td>\n",
       "      <td>45</td>\n",
       "    </tr>\n",
       "  </tbody>\n",
       "</table>\n",
       "</div>"
      ]
     },
     "execution_count": 31,
     "metadata": {},
     "output_type": "execute_result"
    }
   ],
   "execution_count": 31
  },
  {
   "metadata": {},
   "cell_type": "code",
   "outputs": [],
   "execution_count": null,
   "source": [
    "\n",
    "from postgresql import get_connection\n",
    "\n",
    "from dotenv import dotenv_values\n",
    "envs = dotenv_values(\".env\")\n",
    "\n",
    "async def upload_into_register_table(dataframe):\n",
    "    conn = await get_connection(\n",
    "        user=envs[\"PG_USER\"],\n",
    "        password=envs[\"PG_PASSWORD\"],\n",
    "        database=envs[\"PG_DATABASE\"],\n",
    "        host=envs[\"PG_HOST\"]\n",
    "    )\n",
    "    query = \"\"\"\n",
    "    INSERT INTO StationRegisters (\n",
    "        station_id, date_time, temperature, radiation, \n",
    "        relative_humidity, precipitation, wind_speed, \n",
    "        wetness, wind_direction, heat_index\n",
    "    ) VALUES ($1, $2, $3, $4, $5, $6, $7, $8, $9, $10)\n",
    "    ON CONFLICT (station_id, date_time) DO NOTHING\n",
    "    \"\"\"\n",
    "    for _, row in dataframe.iterrows():\n",
    "        await conn.execute(\n",
    "            query,\n",
    "            row['station_id'], row['date_time'], row['temperature'], \n",
    "            row['radiation'], row['relative_humidity'], row['precipitation'], \n",
    "            row['wind_speed'], row['wetness'], row['wind_direction'], row['heat_index']\n",
    "        )"
   ],
   "id": "d115a70a189a10ce"
  },
  {
   "metadata": {
    "ExecuteTime": {
     "end_time": "2024-10-23T06:51:58.657718Z",
     "start_time": "2024-10-23T06:51:58.650662Z"
    }
   },
   "cell_type": "code",
   "source": [
    "async def upload_xls_file_to_db_pipeline(file_name, dir_path):\n",
    "    file_path = os.path.join(dir_path, file_name)\n",
    "    stations_dict = json_to_dict_and_dataframe('./data/stations.json')\n",
    "    dataframe = extract_xls_into_dataframe(file_path, stations_dict)\n",
    "    await upload_into_register_table(dataframe)\n",
    "\n",
    "    return"
   ],
   "id": "43aa1916657e2e9c",
   "outputs": [],
   "execution_count": 32
  },
  {
   "metadata": {},
   "cell_type": "code",
   "outputs": [],
   "execution_count": null,
   "source": [
    "# Executed on script since jupyter won't run async functions. \n",
    "import os\n",
    "import asyncio\n",
    "\n",
    "directory_path = './data/'\n",
    "files_to_load = os.listdir(\"./data/xls_cleaned/\") \n",
    "async def upload_multiple_files(): \n",
    "    for file_name in files_to_load:\n",
    "        await upload_xls_file_to_db_pipeline(file_name, directory_path)\n",
    "        \n",
    "        \n",
    "if __name__ == \"__main__\":\n",
    "    asyncio.run(upload_multiple_files())"
   ],
   "id": "683f69c2f05d4e7a"
  }
 ],
 "metadata": {
  "kernelspec": {
   "display_name": "Python 3",
   "language": "python",
   "name": "python3"
  },
  "language_info": {
   "codemirror_mode": {
    "name": "ipython",
    "version": 2
   },
   "file_extension": ".py",
   "mimetype": "text/x-python",
   "name": "python",
   "nbconvert_exporter": "python",
   "pygments_lexer": "ipython2",
   "version": "2.7.6"
  }
 },
 "nbformat": 4,
 "nbformat_minor": 5
}
